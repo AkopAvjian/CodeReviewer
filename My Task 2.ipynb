{
 "cells": [
  {
   "cell_type": "markdown",
   "id": "dc41b4ff",
   "metadata": {},
   "source": [
    "# Task 2. Problem-solving"
   ]
  },
  {
   "cell_type": "markdown",
   "id": "6da6c917",
   "metadata": {},
   "source": [
    "\n",
    "## Project plan\n",
    "- [ 1. Data loading and preparation ](#section1)\n",
    "- [ 2. Highlight user cohorts based on the week of registration in the application. The cohort ](#section2) \n",
    "- [ 3. How many unique users in the cohort with ID 33? ](#section3) \n",
    "- [ 4. For each event, highlight the indicator lifetime - the weekly lifetime of the cohort. ](#section4)   \n",
    "- [ 5. Build a summary table of changes in the Retention Rate for cohorts depending on lifetime. ](#section5)     \n",
    "- [ 6. What is the 3 week retention rate for a cohort with ID 32?](#section6)\n",
    "- [ 7. Build a summary table of changes in the indicator ARPPU for cohorts depending on lifetime.\n",
    "](#section7)\n",
    "- [ 8. What is the 3-week ARPPU of a cohort with ID 31?](#section8)\n",
    "- [ 9. What is the median time between user registration and first purchase?](#section9)"
   ]
  },
  {
   "cell_type": "markdown",
   "id": "7ce04ba0",
   "metadata": {},
   "source": [
    "<a id='section1'></a>\n",
    "#### 1. Data loading and preparation"
   ]
  },
  {
   "cell_type": "code",
   "execution_count": 1,
   "id": "5ecf120f",
   "metadata": {},
   "outputs": [
    {
     "name": "stdout",
     "output_type": "stream",
     "text": [
      "<class 'pandas.core.frame.DataFrame'>\n",
      "RangeIndex: 79742 entries, 0 to 79741\n",
      "Data columns (total 4 columns):\n",
      " #   Column           Non-Null Count  Dtype         \n",
      "---  ------           --------------  -----         \n",
      " 0   user_id          79742 non-null  object        \n",
      " 1   event_date       79742 non-null  datetime64[ns]\n",
      " 2   event_type       79742 non-null  object        \n",
      " 3   purchase_amount  6207 non-null   float64       \n",
      "dtypes: datetime64[ns](1), float64(1), object(2)\n",
      "memory usage: 2.4+ MB\n",
      "None\n"
     ]
    },
    {
     "data": {
      "text/html": [
       "<div>\n",
       "<style scoped>\n",
       "    .dataframe tbody tr th:only-of-type {\n",
       "        vertical-align: middle;\n",
       "    }\n",
       "\n",
       "    .dataframe tbody tr th {\n",
       "        vertical-align: top;\n",
       "    }\n",
       "\n",
       "    .dataframe thead th {\n",
       "        text-align: right;\n",
       "    }\n",
       "</style>\n",
       "<table border=\"1\" class=\"dataframe\">\n",
       "  <thead>\n",
       "    <tr style=\"text-align: right;\">\n",
       "      <th></th>\n",
       "      <th>user_id</th>\n",
       "      <th>event_date</th>\n",
       "      <th>event_type</th>\n",
       "      <th>purchase_amount</th>\n",
       "    </tr>\n",
       "  </thead>\n",
       "  <tbody>\n",
       "    <tr>\n",
       "      <th>0</th>\n",
       "      <td>c40e6a</td>\n",
       "      <td>2019-07-29 00:02:15</td>\n",
       "      <td>registration</td>\n",
       "      <td>NaN</td>\n",
       "    </tr>\n",
       "    <tr>\n",
       "      <th>1</th>\n",
       "      <td>a2b682</td>\n",
       "      <td>2019-07-29 00:04:46</td>\n",
       "      <td>registration</td>\n",
       "      <td>NaN</td>\n",
       "    </tr>\n",
       "    <tr>\n",
       "      <th>2</th>\n",
       "      <td>9ac888</td>\n",
       "      <td>2019-07-29 00:13:22</td>\n",
       "      <td>registration</td>\n",
       "      <td>NaN</td>\n",
       "    </tr>\n",
       "    <tr>\n",
       "      <th>3</th>\n",
       "      <td>93ff22</td>\n",
       "      <td>2019-07-29 00:16:47</td>\n",
       "      <td>registration</td>\n",
       "      <td>NaN</td>\n",
       "    </tr>\n",
       "    <tr>\n",
       "      <th>4</th>\n",
       "      <td>65ef85</td>\n",
       "      <td>2019-07-29 00:19:23</td>\n",
       "      <td>registration</td>\n",
       "      <td>NaN</td>\n",
       "    </tr>\n",
       "  </tbody>\n",
       "</table>\n",
       "</div>"
      ],
      "text/plain": [
       "  user_id          event_date    event_type  purchase_amount\n",
       "0  c40e6a 2019-07-29 00:02:15  registration              NaN\n",
       "1  a2b682 2019-07-29 00:04:46  registration              NaN\n",
       "2  9ac888 2019-07-29 00:13:22  registration              NaN\n",
       "3  93ff22 2019-07-29 00:16:47  registration              NaN\n",
       "4  65ef85 2019-07-29 00:19:23  registration              NaN"
      ]
     },
     "execution_count": 1,
     "metadata": {},
     "output_type": "execute_result"
    }
   ],
   "source": [
    "import pandas as pd\n",
    "import matplotlib.pyplot as plt\n",
    "import seaborn as sns\n",
    "\n",
    "df = pd.read_csv('event_data.csv')\n",
    "\n",
    "df['event_date'] = pd.to_datetime(df['event_date'])\n",
    "\n",
    "print(df.info())\n",
    "df.head()"
   ]
  },
  {
   "cell_type": "markdown",
   "id": "922edb1f",
   "metadata": {},
   "source": [
    "<a id='section2'></a>\n",
    "#### 2. Highlight user cohorts based on the week of registration in the application. The cohort identifier should be the week ordinal (for example, the week from July 29 to August 4 should have identifier 31)."
   ]
  },
  {
   "cell_type": "code",
   "execution_count": 2,
   "id": "bfbc1237",
   "metadata": {},
   "outputs": [
    {
     "name": "stdout",
     "output_type": "stream",
     "text": [
      "<class 'pandas.core.frame.DataFrame'>\n",
      "Int64Index: 79742 entries, 0 to 79741\n",
      "Data columns (total 5 columns):\n",
      " #   Column                Non-Null Count  Dtype         \n",
      "---  ------                --------------  -----         \n",
      " 0   user_id               79742 non-null  object        \n",
      " 1   event_date            79742 non-null  datetime64[ns]\n",
      " 2   event_type            79742 non-null  object        \n",
      " 3   purchase_amount       6207 non-null   float64       \n",
      " 4   week_of_registration  79742 non-null  int32         \n",
      "dtypes: datetime64[ns](1), float64(1), int32(1), object(2)\n",
      "memory usage: 3.3+ MB\n"
     ]
    }
   ],
   "source": [
    "df_with_week = df.query('event_type==\"registration\"').groupby('user_id').agg({'event_date':'min'})['event_date'].dt.isocalendar().week\n",
    "df = df.merge(df_with_week, left_on='user_id', right_on=df_with_week.index)\n",
    "\n",
    "df.rename(columns={'week':'week_of_registration'}, inplace=True)\n",
    "df['week_of_registration'] = df['week_of_registration'].astype('int')\n",
    "df.info()"
   ]
  },
  {
   "cell_type": "markdown",
   "id": "91a3a38a",
   "metadata": {},
   "source": [
    "<a id='section3'></a>\n",
    "#### 3. How many unique users in the cohort with ID 33?"
   ]
  },
  {
   "cell_type": "code",
   "execution_count": 3,
   "id": "4f82ffac",
   "metadata": {},
   "outputs": [
    {
     "name": "stdout",
     "output_type": "stream",
     "text": [
      "There are 2045 unique users in 33's cohort\n"
     ]
    }
   ],
   "source": [
    "print(\"There are {} unique users in 33's cohort\".format(df.query('week_of_registration==33')['user_id'].nunique()) )"
   ]
  },
  {
   "cell_type": "markdown",
   "id": "2ba029fc",
   "metadata": {},
   "source": [
    "<a id='section4'></a>\n",
    "#### 4. For each event, highlight the indicator lifetime - the weekly lifetime of the cohort. The lifetime indicator is calculated based on the serial number of the week in which the event is committed, relative to the week of registration. For example, an event committed on August 3 by a user from a cohort of registrants at 31 weeks will be committed on the zero week of lifetime, and an event committed by the same user on August 5 will be committed on the first week of lifetime)."
   ]
  },
  {
   "cell_type": "code",
   "execution_count": 4,
   "id": "6fbd33fd",
   "metadata": {},
   "outputs": [
    {
     "data": {
      "text/html": [
       "<div>\n",
       "<style scoped>\n",
       "    .dataframe tbody tr th:only-of-type {\n",
       "        vertical-align: middle;\n",
       "    }\n",
       "\n",
       "    .dataframe tbody tr th {\n",
       "        vertical-align: top;\n",
       "    }\n",
       "\n",
       "    .dataframe thead th {\n",
       "        text-align: right;\n",
       "    }\n",
       "</style>\n",
       "<table border=\"1\" class=\"dataframe\">\n",
       "  <thead>\n",
       "    <tr style=\"text-align: right;\">\n",
       "      <th></th>\n",
       "      <th>user_id</th>\n",
       "      <th>event_date</th>\n",
       "      <th>event_type</th>\n",
       "      <th>purchase_amount</th>\n",
       "      <th>week_of_registration</th>\n",
       "      <th>lifetime</th>\n",
       "    </tr>\n",
       "  </thead>\n",
       "  <tbody>\n",
       "    <tr>\n",
       "      <th>5</th>\n",
       "      <td>c40e6a</td>\n",
       "      <td>2019-08-05 07:09:40</td>\n",
       "      <td>simple_event</td>\n",
       "      <td>NaN</td>\n",
       "      <td>31</td>\n",
       "      <td>1</td>\n",
       "    </tr>\n",
       "    <tr>\n",
       "      <th>6</th>\n",
       "      <td>c40e6a</td>\n",
       "      <td>2019-08-08 02:48:27</td>\n",
       "      <td>simple_event</td>\n",
       "      <td>NaN</td>\n",
       "      <td>31</td>\n",
       "      <td>1</td>\n",
       "    </tr>\n",
       "    <tr>\n",
       "      <th>7</th>\n",
       "      <td>c40e6a</td>\n",
       "      <td>2019-08-10 11:40:06</td>\n",
       "      <td>purchase</td>\n",
       "      <td>10.0</td>\n",
       "      <td>31</td>\n",
       "      <td>1</td>\n",
       "    </tr>\n",
       "    <tr>\n",
       "      <th>8</th>\n",
       "      <td>c40e6a</td>\n",
       "      <td>2019-08-11 11:03:15</td>\n",
       "      <td>simple_event</td>\n",
       "      <td>NaN</td>\n",
       "      <td>31</td>\n",
       "      <td>1</td>\n",
       "    </tr>\n",
       "    <tr>\n",
       "      <th>9</th>\n",
       "      <td>c40e6a</td>\n",
       "      <td>2019-08-13 04:14:49</td>\n",
       "      <td>simple_event</td>\n",
       "      <td>NaN</td>\n",
       "      <td>31</td>\n",
       "      <td>2</td>\n",
       "    </tr>\n",
       "    <tr>\n",
       "      <th>...</th>\n",
       "      <td>...</td>\n",
       "      <td>...</td>\n",
       "      <td>...</td>\n",
       "      <td>...</td>\n",
       "      <td>...</td>\n",
       "      <td>...</td>\n",
       "    </tr>\n",
       "    <tr>\n",
       "      <th>73679</th>\n",
       "      <td>29dc09</td>\n",
       "      <td>2019-08-27 09:14:47</td>\n",
       "      <td>simple_event</td>\n",
       "      <td>NaN</td>\n",
       "      <td>34</td>\n",
       "      <td>1</td>\n",
       "    </tr>\n",
       "    <tr>\n",
       "      <th>73680</th>\n",
       "      <td>29dc09</td>\n",
       "      <td>2019-08-28 13:24:53</td>\n",
       "      <td>simple_event</td>\n",
       "      <td>NaN</td>\n",
       "      <td>34</td>\n",
       "      <td>1</td>\n",
       "    </tr>\n",
       "    <tr>\n",
       "      <th>73681</th>\n",
       "      <td>29dc09</td>\n",
       "      <td>2019-08-31 05:25:44</td>\n",
       "      <td>simple_event</td>\n",
       "      <td>NaN</td>\n",
       "      <td>34</td>\n",
       "      <td>1</td>\n",
       "    </tr>\n",
       "    <tr>\n",
       "      <th>73682</th>\n",
       "      <td>29dc09</td>\n",
       "      <td>2019-08-31 21:19:18</td>\n",
       "      <td>simple_event</td>\n",
       "      <td>NaN</td>\n",
       "      <td>34</td>\n",
       "      <td>1</td>\n",
       "    </tr>\n",
       "    <tr>\n",
       "      <th>73683</th>\n",
       "      <td>29dc09</td>\n",
       "      <td>2019-09-01 00:51:27</td>\n",
       "      <td>simple_event</td>\n",
       "      <td>NaN</td>\n",
       "      <td>34</td>\n",
       "      <td>1</td>\n",
       "    </tr>\n",
       "  </tbody>\n",
       "</table>\n",
       "<p>50439 rows × 6 columns</p>\n",
       "</div>"
      ],
      "text/plain": [
       "      user_id          event_date    event_type  purchase_amount  \\\n",
       "5      c40e6a 2019-08-05 07:09:40  simple_event              NaN   \n",
       "6      c40e6a 2019-08-08 02:48:27  simple_event              NaN   \n",
       "7      c40e6a 2019-08-10 11:40:06      purchase             10.0   \n",
       "8      c40e6a 2019-08-11 11:03:15  simple_event              NaN   \n",
       "9      c40e6a 2019-08-13 04:14:49  simple_event              NaN   \n",
       "...       ...                 ...           ...              ...   \n",
       "73679  29dc09 2019-08-27 09:14:47  simple_event              NaN   \n",
       "73680  29dc09 2019-08-28 13:24:53  simple_event              NaN   \n",
       "73681  29dc09 2019-08-31 05:25:44  simple_event              NaN   \n",
       "73682  29dc09 2019-08-31 21:19:18  simple_event              NaN   \n",
       "73683  29dc09 2019-09-01 00:51:27  simple_event              NaN   \n",
       "\n",
       "       week_of_registration  lifetime  \n",
       "5                        31         1  \n",
       "6                        31         1  \n",
       "7                        31         1  \n",
       "8                        31         1  \n",
       "9                        31         2  \n",
       "...                     ...       ...  \n",
       "73679                    34         1  \n",
       "73680                    34         1  \n",
       "73681                    34         1  \n",
       "73682                    34         1  \n",
       "73683                    34         1  \n",
       "\n",
       "[50439 rows x 6 columns]"
      ]
     },
     "execution_count": 4,
     "metadata": {},
     "output_type": "execute_result"
    }
   ],
   "source": [
    "df['lifetime'] = df['event_date'].dt.isocalendar().week - df['week_of_registration']\n",
    "df['lifetime'] = df['lifetime'].astype('int')\n",
    "\n",
    "df.query('lifetime!=0')"
   ]
  },
  {
   "cell_type": "markdown",
   "id": "8427e25d",
   "metadata": {},
   "source": [
    "<a id='section5'></a>\n",
    "#### 5. Build a summary table of changes in the Retention Rate for cohorts depending on lifetime."
   ]
  },
  {
   "cell_type": "code",
   "execution_count": 5,
   "id": "6f3d454e",
   "metadata": {},
   "outputs": [
    {
     "name": "stdout",
     "output_type": "stream",
     "text": [
      "lifetime                0         1         2         3        4\n",
      "week_of_registration                                            \n",
      "31                    1.0  0.927595  0.629367  0.356962  0.15038\n",
      "32                    1.0  0.929303  0.648053  0.361168      NaN\n",
      "33                    1.0  0.924205  0.661125       NaN      NaN\n",
      "34                    1.0  0.929078       NaN       NaN      NaN\n",
      "35                    1.0       NaN       NaN       NaN      NaN\n"
     ]
    },
    {
     "data": {
      "image/png": "[encoded data removed]",
      "text/plain": [
       "<Figure size 936x648 with 2 Axes>"
      ]
     },
     "metadata": {},
     "output_type": "display_data"
    }
   ],
   "source": [
    "cohorts = df.groupby(['week_of_registration', 'lifetime']).agg({'user_id':'nunique'}).reset_index()\n",
    "\n",
    "initial_users_count = cohorts[cohorts['lifetime'] == 0][\n",
    "    ['week_of_registration', 'user_id']\n",
    "]\n",
    "\n",
    "initial_users_count = initial_users_count.rename(columns={'user_id':'cohort_users'})\n",
    "\n",
    "cohorts = cohorts.merge(initial_users_count,on='week_of_registration') \n",
    "\n",
    "cohorts['retention'] = cohorts['user_id']/cohorts['cohort_users'] \n",
    "\n",
    "retention_pivot = cohorts.pivot_table(\n",
    "    index='week_of_registration',\n",
    "    columns='lifetime',\n",
    "    values='retention',\n",
    "    aggfunc='sum',\n",
    ") \n",
    "\n",
    "print(retention_pivot)\n",
    "\n",
    "sns.set(style='white')\n",
    "plt.figure(figsize=(13, 9))\n",
    "plt.title('User Retention')\n",
    "sns.heatmap(retention_pivot, annot=True, fmt='.0%', linewidths=1, linecolor='black'); "
   ]
  },
  {
   "cell_type": "markdown",
   "id": "41591a3b",
   "metadata": {},
   "source": [
    "<a id='section6'></a>\n",
    "#### 6. What is the 3 week retention rate for a cohort with ID 32? Give the answer in percent, rounded to 2 decimal places, inclusive."
   ]
  },
  {
   "cell_type": "code",
   "execution_count": 6,
   "id": "32ac262f",
   "metadata": {},
   "outputs": [
    {
     "name": "stdout",
     "output_type": "stream",
     "text": [
      "The retention rate for 32's cohort of the third week is 36.12\n"
     ]
    }
   ],
   "source": [
    "print(\"The retention rate for 32's cohort of the third week is {}\".format(round(retention_pivot.loc[(32, 3)]*100,2), '%.2f'))\n"
   ]
  },
  {
   "cell_type": "markdown",
   "id": "99373a33",
   "metadata": {},
   "source": [
    "<a id='section7'></a>\n",
    "#### 7. Build a summary table of changes in the indicator ARPPU (Average Revenue Per Paying User) for cohorts depending on lifetime."
   ]
  },
  {
   "cell_type": "code",
   "execution_count": 7,
   "id": "b887f002",
   "metadata": {},
   "outputs": [
    {
     "name": "stdout",
     "output_type": "stream",
     "text": [
      "lifetime                      0          1          2          3          4\n",
      "week_of_registration                                                       \n",
      "31                    28.132911  29.511494  30.525000  29.142857  30.454545\n",
      "32                    30.222841  29.773692  29.928741  29.528302        NaN\n",
      "33                    30.689655  30.519663  29.171975        NaN        NaN\n",
      "34                    30.776699  30.929134        NaN        NaN        NaN\n",
      "35                    30.721925        NaN        NaN        NaN        NaN\n"
     ]
    },
    {
     "data": {
      "image/png": "[encoded data removed]",
      "text/plain": [
       "<Figure size 936x648 with 2 Axes>"
      ]
     },
     "metadata": {},
     "output_type": "display_data"
    }
   ],
   "source": [
    "cohorts = df.query(\"event_type=='purchase'\").groupby(['week_of_registration', 'lifetime']).agg({'purchase_amount':'mean'}).reset_index()\n",
    "\n",
    "#cohorts['retention'] = cohorts['user_id']/cohorts['cohort_users'] \n",
    "\n",
    "arppu_pivot = cohorts.pivot_table(\n",
    "    index='week_of_registration',\n",
    "    columns='lifetime',\n",
    "    values='purchase_amount',\n",
    "    aggfunc='sum',\n",
    ") \n",
    "\n",
    "print(arppu_pivot)\n",
    "\n",
    "sns.set(style='white')\n",
    "plt.figure(figsize=(13, 9))\n",
    "plt.title('ARPPU')\n",
    "sns.heatmap(arppu_pivot, annot=True, fmt='.2f', linewidths=1, linecolor='black'); \n",
    "plt.show()"
   ]
  },
  {
   "cell_type": "markdown",
   "id": "9d875143",
   "metadata": {},
   "source": [
    "<a id='section8'></a>\n",
    "#### 8. What is the 3-week ARPPU of a cohort with ID 31? Give the answer with a floating point number, rounded to 2 decimal places, inclusive."
   ]
  },
  {
   "cell_type": "code",
   "execution_count": 8,
   "id": "735246a0",
   "metadata": {},
   "outputs": [
    {
     "name": "stdout",
     "output_type": "stream",
     "text": [
      "The ARPPU rate for 31's cohort of the third week is 29.14\n"
     ]
    }
   ],
   "source": [
    "print(\"The ARPPU rate for 31's cohort of the third week is {}\".format(round(arppu_pivot.loc[(31, 3)],2), '.2f'))"
   ]
  },
  {
   "cell_type": "markdown",
   "id": "c6f093fc",
   "metadata": {},
   "source": [
    "<a id='section9'></a>\n",
    "#### 9. What is the median time between user registration and first purchase? Give the answer in seconds (!) As an integer."
   ]
  },
  {
   "cell_type": "code",
   "execution_count": 9,
   "id": "c2cfba30",
   "metadata": {},
   "outputs": [
    {
     "data": {
      "text/plain": [
       "43623"
      ]
     },
     "execution_count": 9,
     "metadata": {},
     "output_type": "execute_result"
    }
   ],
   "source": [
    "df_with_registration = df.query('event_type==\"registration\"').groupby('user_id').agg({'event_date':'min'}).reset_index()\n",
    "df_with_registration = df_with_registration.rename(columns={'event_date':'first_registration'})\n",
    "\n",
    "df_with_purchase = df.query('event_type==\"purchase\"').groupby('user_id').agg({'event_date':'min'}).reset_index()\n",
    "df_with_purchase = df_with_purchase.rename(columns={'event_date':'first_purchase'})\n",
    "\n",
    "df_with_registration = df_with_registration.merge(df_with_purchase, left_on='user_id', right_on='user_id')\n",
    "\n",
    "int((df_with_registration['first_purchase']-df_with_registration['first_registration']).dt.seconds.median())"
   ]
  }
 ],
 "metadata": {
  "kernelspec": {
   "display_name": "Python 3",
   "language": "python",
   "name": "python3"
  },
  "language_info": {
   "codemirror_mode": {
    "name": "ipython",
    "version": 3
   },
   "file_extension": ".py",
   "mimetype": "text/x-python",
   "name": "python",
   "nbconvert_exporter": "python",
   "pygments_lexer": "ipython3",
   "version": "3.8.8"
  }
 },
 "nbformat": 4,
 "nbformat_minor": 5
}
