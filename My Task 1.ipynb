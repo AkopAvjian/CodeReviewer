{
 "cells": [
  {
   "cell_type": "markdown",
   "id": "1670ae3d",
   "metadata": {},
   "source": [
    "# Task 1. Working with data"
   ]
  },
  {
   "cell_type": "markdown",
   "id": "a08b3d2d",
   "metadata": {},
   "source": [
    "## Project plan\n",
    "- [ 1.1 Data loading and preparation ](#section1)\n",
    "- [ 1.2. The duration column contains data on the film length. How many missing values are there in this column? ](#section2) \n",
    "- [ 1.3. Replace the missing values in the duration column with the median value for this column.](#section3) \n",
    "- [ 1.4. What is the average film length? Give the answer as a floating-point figure rounded to two decimal places. ](#section4) \n",
    "- [1.5. Create a movie_duration_category column, which will contain three categories depending on the film length. ](#section5) \n",
    "- [ 1.6. Build a summary table for films released after 2000 (inclusively), to list the numbers of films ](#section6) \n",
    "- [1.7. How many films between 90 minutes and two hours long were released in 2008? ](#section7) \n",
    "- [ 1.8. The plot_keywords column holds keywords characterizing the film's plot. Using the data in this column, create a column called movie_plot_category, to contain four categories depending on the key words in the column ](#section8) \n",
    "- [ 1.9. The imdb_score column shows a viewer rating for the film. Build a table to reflect the average rating of films depending on which movie_plot_category category they belong to. ](#section9) \n",
    "- [ 1.10. What is the average rating of films in the \"love\" category? Give the answer as a floatingpoint figure rounded to two decimal places. ](#section10) \n",
    "- [ 1.11. The budget column contains the film's budget. What is the median budget for all the films listed? Give the answer as an integer. ](#section11) "
   ]
  },
  {
   "cell_type": "markdown",
   "id": "97ab8e30",
   "metadata": {},
   "source": [
    "<a id='section1'></a>\n",
    "#### 1.1 Data loading and preparation"
   ]
  },
  {
   "cell_type": "code",
   "execution_count": 1,
   "id": "c96d7354",
   "metadata": {},
   "outputs": [
    {
     "name": "stdout",
     "output_type": "stream",
     "text": [
      "<class 'pandas.core.frame.DataFrame'>\n",
      "RangeIndex: 4935 entries, 0 to 4934\n",
      "Data columns (total 28 columns):\n",
      " #   Column                     Non-Null Count  Dtype  \n",
      "---  ------                     --------------  -----  \n",
      " 0   color                      4920 non-null   object \n",
      " 1   director_name              4935 non-null   object \n",
      " 2   num_critic_for_reviews     4894 non-null   float64\n",
      " 3   duration                   4923 non-null   float64\n",
      " 4   director_facebook_likes    4935 non-null   float64\n",
      " 5   actor_3_facebook_likes     4917 non-null   float64\n",
      " 6   actor_2_name               4925 non-null   object \n",
      " 7   actor_1_facebook_likes     4928 non-null   float64\n",
      " 8   gross                      4156 non-null   float64\n",
      " 9   genres                     4935 non-null   object \n",
      " 10  actor_1_name               4928 non-null   object \n",
      " 11  movie_title                4935 non-null   object \n",
      " 12  num_voted_users            4935 non-null   int64  \n",
      " 13  cast_total_facebook_likes  4935 non-null   int64  \n",
      " 14  actor_3_name               4917 non-null   object \n",
      " 15  facenumber_in_poster       4922 non-null   float64\n",
      " 16  plot_keywords              4935 non-null   object \n",
      " 17  movie_imdb_link            4935 non-null   object \n",
      " 18  num_user_for_reviews       4920 non-null   float64\n",
      " 19  language                   4926 non-null   object \n",
      " 20  country                    4934 non-null   object \n",
      " 21  content_rating             4674 non-null   object \n",
      " 22  budget                     4935 non-null   object \n",
      " 23  title_year                 4935 non-null   int32  \n",
      " 24  actor_2_facebook_likes     4925 non-null   float64\n",
      " 25  imdb_score                 4935 non-null   float64\n",
      " 26  aspect_ratio               4628 non-null   float64\n",
      " 27  movie_facebook_likes       4935 non-null   int64  \n",
      "dtypes: float64(11), int32(1), int64(3), object(13)\n",
      "memory usage: 1.0+ MB\n"
     ]
    },
    {
     "data": {
      "text/html": [
       "<div>\n",
       "<style scoped>\n",
       "    .dataframe tbody tr th:only-of-type {\n",
       "        vertical-align: middle;\n",
       "    }\n",
       "\n",
       "    .dataframe tbody tr th {\n",
       "        vertical-align: top;\n",
       "    }\n",
       "\n",
       "    .dataframe thead th {\n",
       "        text-align: right;\n",
       "    }\n",
       "</style>\n",
       "<table border=\"1\" class=\"dataframe\">\n",
       "  <thead>\n",
       "    <tr style=\"text-align: right;\">\n",
       "      <th></th>\n",
       "      <th>color</th>\n",
       "      <th>director_name</th>\n",
       "      <th>num_critic_for_reviews</th>\n",
       "      <th>duration</th>\n",
       "      <th>director_facebook_likes</th>\n",
       "      <th>actor_3_facebook_likes</th>\n",
       "      <th>actor_2_name</th>\n",
       "      <th>actor_1_facebook_likes</th>\n",
       "      <th>gross</th>\n",
       "      <th>genres</th>\n",
       "      <th>...</th>\n",
       "      <th>num_user_for_reviews</th>\n",
       "      <th>language</th>\n",
       "      <th>country</th>\n",
       "      <th>content_rating</th>\n",
       "      <th>budget</th>\n",
       "      <th>title_year</th>\n",
       "      <th>actor_2_facebook_likes</th>\n",
       "      <th>imdb_score</th>\n",
       "      <th>aspect_ratio</th>\n",
       "      <th>movie_facebook_likes</th>\n",
       "    </tr>\n",
       "  </thead>\n",
       "  <tbody>\n",
       "    <tr>\n",
       "      <th>0</th>\n",
       "      <td>Color</td>\n",
       "      <td>James Cameron</td>\n",
       "      <td>723.0</td>\n",
       "      <td>178.0</td>\n",
       "      <td>0.0</td>\n",
       "      <td>855.0</td>\n",
       "      <td>Joel David Moore</td>\n",
       "      <td>1000.0</td>\n",
       "      <td>760505847.0</td>\n",
       "      <td>Action|Adventure|Fantasy|Sci-Fi</td>\n",
       "      <td>...</td>\n",
       "      <td>3054.0</td>\n",
       "      <td>English</td>\n",
       "      <td>USA</td>\n",
       "      <td>PG-13</td>\n",
       "      <td>237000000.0$</td>\n",
       "      <td>2009</td>\n",
       "      <td>936.0</td>\n",
       "      <td>7.9</td>\n",
       "      <td>1.78</td>\n",
       "      <td>33000</td>\n",
       "    </tr>\n",
       "    <tr>\n",
       "      <th>1</th>\n",
       "      <td>Color</td>\n",
       "      <td>Gore Verbinski</td>\n",
       "      <td>302.0</td>\n",
       "      <td>169.0</td>\n",
       "      <td>563.0</td>\n",
       "      <td>1000.0</td>\n",
       "      <td>Orlando Bloom</td>\n",
       "      <td>40000.0</td>\n",
       "      <td>309404152.0</td>\n",
       "      <td>Action|Adventure|Fantasy</td>\n",
       "      <td>...</td>\n",
       "      <td>1238.0</td>\n",
       "      <td>English</td>\n",
       "      <td>USA</td>\n",
       "      <td>PG-13</td>\n",
       "      <td>300000000.0$</td>\n",
       "      <td>2007</td>\n",
       "      <td>5000.0</td>\n",
       "      <td>7.1</td>\n",
       "      <td>2.35</td>\n",
       "      <td>0</td>\n",
       "    </tr>\n",
       "    <tr>\n",
       "      <th>2</th>\n",
       "      <td>Color</td>\n",
       "      <td>Sam Mendes</td>\n",
       "      <td>602.0</td>\n",
       "      <td>148.0</td>\n",
       "      <td>0.0</td>\n",
       "      <td>161.0</td>\n",
       "      <td>Rory Kinnear</td>\n",
       "      <td>11000.0</td>\n",
       "      <td>200074175.0</td>\n",
       "      <td>Action|Adventure|Thriller</td>\n",
       "      <td>...</td>\n",
       "      <td>994.0</td>\n",
       "      <td>English</td>\n",
       "      <td>UK</td>\n",
       "      <td>PG-13</td>\n",
       "      <td>245000000.0$</td>\n",
       "      <td>2015</td>\n",
       "      <td>393.0</td>\n",
       "      <td>6.8</td>\n",
       "      <td>2.35</td>\n",
       "      <td>85000</td>\n",
       "    </tr>\n",
       "    <tr>\n",
       "      <th>3</th>\n",
       "      <td>Color</td>\n",
       "      <td>Christopher Nolan</td>\n",
       "      <td>813.0</td>\n",
       "      <td>164.0</td>\n",
       "      <td>22000.0</td>\n",
       "      <td>23000.0</td>\n",
       "      <td>Christian Bale</td>\n",
       "      <td>27000.0</td>\n",
       "      <td>448130642.0</td>\n",
       "      <td>Action|Thriller</td>\n",
       "      <td>...</td>\n",
       "      <td>2701.0</td>\n",
       "      <td>English</td>\n",
       "      <td>USA</td>\n",
       "      <td>PG-13</td>\n",
       "      <td>250000000.0$</td>\n",
       "      <td>2012</td>\n",
       "      <td>23000.0</td>\n",
       "      <td>8.5</td>\n",
       "      <td>2.35</td>\n",
       "      <td>164000</td>\n",
       "    </tr>\n",
       "    <tr>\n",
       "      <th>4</th>\n",
       "      <td>Color</td>\n",
       "      <td>Andrew Stanton</td>\n",
       "      <td>462.0</td>\n",
       "      <td>132.0</td>\n",
       "      <td>475.0</td>\n",
       "      <td>530.0</td>\n",
       "      <td>Samantha Morton</td>\n",
       "      <td>640.0</td>\n",
       "      <td>73058679.0</td>\n",
       "      <td>Action|Adventure|Sci-Fi</td>\n",
       "      <td>...</td>\n",
       "      <td>738.0</td>\n",
       "      <td>English</td>\n",
       "      <td>USA</td>\n",
       "      <td>PG-13</td>\n",
       "      <td>263700000.0$</td>\n",
       "      <td>2012</td>\n",
       "      <td>632.0</td>\n",
       "      <td>6.6</td>\n",
       "      <td>2.35</td>\n",
       "      <td>24000</td>\n",
       "    </tr>\n",
       "  </tbody>\n",
       "</table>\n",
       "<p>5 rows × 28 columns</p>\n",
       "</div>"
      ],
      "text/plain": [
       "   color      director_name  num_critic_for_reviews  duration  \\\n",
       "0  Color      James Cameron                   723.0     178.0   \n",
       "1  Color     Gore Verbinski                   302.0     169.0   \n",
       "2  Color         Sam Mendes                   602.0     148.0   \n",
       "3  Color  Christopher Nolan                   813.0     164.0   \n",
       "4  Color     Andrew Stanton                   462.0     132.0   \n",
       "\n",
       "   director_facebook_likes  actor_3_facebook_likes      actor_2_name  \\\n",
       "0                      0.0                   855.0  Joel David Moore   \n",
       "1                    563.0                  1000.0     Orlando Bloom   \n",
       "2                      0.0                   161.0      Rory Kinnear   \n",
       "3                  22000.0                 23000.0    Christian Bale   \n",
       "4                    475.0                   530.0   Samantha Morton   \n",
       "\n",
       "   actor_1_facebook_likes        gross                           genres  ...  \\\n",
       "0                  1000.0  760505847.0  Action|Adventure|Fantasy|Sci-Fi  ...   \n",
       "1                 40000.0  309404152.0         Action|Adventure|Fantasy  ...   \n",
       "2                 11000.0  200074175.0        Action|Adventure|Thriller  ...   \n",
       "3                 27000.0  448130642.0                  Action|Thriller  ...   \n",
       "4                   640.0   73058679.0          Action|Adventure|Sci-Fi  ...   \n",
       "\n",
       "  num_user_for_reviews language  country  content_rating        budget  \\\n",
       "0               3054.0  English      USA           PG-13  237000000.0$   \n",
       "1               1238.0  English      USA           PG-13  300000000.0$   \n",
       "2                994.0  English       UK           PG-13  245000000.0$   \n",
       "3               2701.0  English      USA           PG-13  250000000.0$   \n",
       "4                738.0  English      USA           PG-13  263700000.0$   \n",
       "\n",
       "   title_year actor_2_facebook_likes imdb_score  aspect_ratio  \\\n",
       "0        2009                  936.0        7.9          1.78   \n",
       "1        2007                 5000.0        7.1          2.35   \n",
       "2        2015                  393.0        6.8          2.35   \n",
       "3        2012                23000.0        8.5          2.35   \n",
       "4        2012                  632.0        6.6          2.35   \n",
       "\n",
       "  movie_facebook_likes  \n",
       "0                33000  \n",
       "1                    0  \n",
       "2                85000  \n",
       "3               164000  \n",
       "4                24000  \n",
       "\n",
       "[5 rows x 28 columns]"
      ]
     },
     "execution_count": 1,
     "metadata": {},
     "output_type": "execute_result"
    }
   ],
   "source": [
    "import pandas as pd\n",
    "import numpy as np\n",
    "import matplotlib.pyplot as plt\n",
    "from pymystem3 import Mystem\n",
    "\n",
    "m = Mystem() \n",
    "\n",
    "df = pd.read_csv('movie_metadata.csv')\n",
    "\n",
    "df = df[df['title_year'].notna()].reset_index().drop('index', axis=1)\n",
    "df['plot_keywords'] = df['plot_keywords'].fillna('other')\n",
    "df['title_year'] = df['title_year'].astype('int')\n",
    "df.info()\n",
    "\n",
    "# Data preprocessing\n",
    "df.head()"
   ]
  },
  {
   "cell_type": "markdown",
   "id": "667e9f95",
   "metadata": {},
   "source": [
    "<a id='section2'></a>\n",
    "#### 1.2. The duration column contains data on the film length. How many missing values are there in this column? "
   ]
  },
  {
   "cell_type": "code",
   "execution_count": 2,
   "id": "eb6d3cd1",
   "metadata": {},
   "outputs": [
    {
     "name": "stdout",
     "output_type": "stream",
     "text": [
      "There are 12 movies with missing duration\n"
     ]
    }
   ],
   "source": [
    "print('There are {} movies with missing duration'.format(df['duration'].isna().sum()))"
   ]
  },
  {
   "cell_type": "markdown",
   "id": "71b375a3",
   "metadata": {},
   "source": [
    "<a id='section3'></a>\n",
    "#### 1.3. Replace the missing values in the duration column with the median value for this column."
   ]
  },
  {
   "cell_type": "code",
   "execution_count": 3,
   "id": "685f6c21",
   "metadata": {},
   "outputs": [
    {
     "name": "stdout",
     "output_type": "stream",
     "text": [
      "Duration's boxplot shows skewness of data\n"
     ]
    },
    {
     "data": {
      "image/png": "[encoded data removed]",
      "text/plain": [
       "<Figure size 432x288 with 1 Axes>"
      ]
     },
     "metadata": {
      "needs_background": "light"
     },
     "output_type": "display_data"
    }
   ],
   "source": [
    "print('Duration\\'s boxplot shows skewness of data')\n",
    "df.boxplot(column='duration')\n",
    "df['duration'] = df['duration'].fillna(df['duration'].median())\n"
   ]
  },
  {
   "cell_type": "markdown",
   "id": "eca11084",
   "metadata": {},
   "source": [
    "<a id='section4'></a>\n",
    "#### 1.4. What is the average film length? Give the answer as a floating-point figure rounded to two decimal places."
   ]
  },
  {
   "cell_type": "code",
   "execution_count": 4,
   "id": "6d1b8ba6",
   "metadata": {},
   "outputs": [
    {
     "name": "stdout",
     "output_type": "stream",
     "text": [
      "The average duration of movies is 108.16\n"
     ]
    }
   ],
   "source": [
    "print('The average duration of movies is', round(df['duration'].mean(),2))"
   ]
  },
  {
   "cell_type": "markdown",
   "id": "fa037622",
   "metadata": {},
   "source": [
    "<a id='section5'></a>\n",
    "#### 1.5. Create a movie_duration_category column, which will contain three categories depending on the film length: \n",
    "• Category \"1. <90\" if the film is less than 90 minutes long \n",
    "\n",
    "• Category \"2. 90–120\" if the film is between 90 minutes and two hours long (inclusively) \n",
    "\n",
    "• Category \"3. >120\" if the film is more than two hours long"
   ]
  },
  {
   "cell_type": "code",
   "execution_count": 5,
   "id": "4d7ce5c5",
   "metadata": {},
   "outputs": [
    {
     "data": {
      "text/plain": [
       "3. >120      3179\n",
       "2. 90-120    1059\n",
       "1. <90        697\n",
       "Name: movie_duration_category, dtype: int64"
      ]
     },
     "execution_count": 5,
     "metadata": {},
     "output_type": "execute_result"
    }
   ],
   "source": [
    "def movie_duration_category(duration):\n",
    "    if duration < 90:\n",
    "        return \"1. <90\"\n",
    "    elif 120 < duration > 90:\n",
    "        return \"2. 90-120\"\n",
    "    \n",
    "    return \"3. >120\"\n",
    "\n",
    "df['movie_duration_category'] = df['duration'].apply(movie_duration_category)\n",
    "df['movie_duration_category'].value_counts()"
   ]
  },
  {
   "cell_type": "markdown",
   "id": "0bd69e01",
   "metadata": {},
   "source": [
    "<a id='section6'></a>\n",
    "#### 1.6. Build a summary table for films released after 2000 (inclusively), to list the numbers of films: \n",
    "• Table rows: year • Table columns: movie duration category (\"<90\", \"90–120\", \">120\") \n",
    "\n",
    "• The year of release should be displayed in the YYYY format. "
   ]
  },
  {
   "cell_type": "code",
   "execution_count": 6,
   "id": "02cdad60",
   "metadata": {},
   "outputs": [
    {
     "data": {
      "text/html": [
       "<div>\n",
       "<style scoped>\n",
       "    .dataframe tbody tr th:only-of-type {\n",
       "        vertical-align: middle;\n",
       "    }\n",
       "\n",
       "    .dataframe tbody tr th {\n",
       "        vertical-align: top;\n",
       "    }\n",
       "\n",
       "    .dataframe thead tr th {\n",
       "        text-align: left;\n",
       "    }\n",
       "\n",
       "    .dataframe thead tr:last-of-type th {\n",
       "        text-align: right;\n",
       "    }\n",
       "</style>\n",
       "<table border=\"1\" class=\"dataframe\">\n",
       "  <thead>\n",
       "    <tr>\n",
       "      <th></th>\n",
       "      <th colspan=\"3\" halign=\"left\">count</th>\n",
       "    </tr>\n",
       "    <tr>\n",
       "      <th></th>\n",
       "      <th colspan=\"3\" halign=\"left\">duration</th>\n",
       "    </tr>\n",
       "    <tr>\n",
       "      <th>movie_duration_category</th>\n",
       "      <th>1. &lt;90</th>\n",
       "      <th>2. 90-120</th>\n",
       "      <th>3. &gt;120</th>\n",
       "    </tr>\n",
       "    <tr>\n",
       "      <th>title_year</th>\n",
       "      <th></th>\n",
       "      <th></th>\n",
       "      <th></th>\n",
       "    </tr>\n",
       "  </thead>\n",
       "  <tbody>\n",
       "    <tr>\n",
       "      <th>2000</th>\n",
       "      <td>25</td>\n",
       "      <td>34</td>\n",
       "      <td>112</td>\n",
       "    </tr>\n",
       "    <tr>\n",
       "      <th>2001</th>\n",
       "      <td>29</td>\n",
       "      <td>39</td>\n",
       "      <td>120</td>\n",
       "    </tr>\n",
       "    <tr>\n",
       "      <th>2002</th>\n",
       "      <td>36</td>\n",
       "      <td>27</td>\n",
       "      <td>146</td>\n",
       "    </tr>\n",
       "    <tr>\n",
       "      <th>2003</th>\n",
       "      <td>31</td>\n",
       "      <td>30</td>\n",
       "      <td>108</td>\n",
       "    </tr>\n",
       "    <tr>\n",
       "      <th>2004</th>\n",
       "      <td>30</td>\n",
       "      <td>42</td>\n",
       "      <td>142</td>\n",
       "    </tr>\n",
       "    <tr>\n",
       "      <th>2005</th>\n",
       "      <td>31</td>\n",
       "      <td>48</td>\n",
       "      <td>142</td>\n",
       "    </tr>\n",
       "    <tr>\n",
       "      <th>2006</th>\n",
       "      <td>40</td>\n",
       "      <td>53</td>\n",
       "      <td>146</td>\n",
       "    </tr>\n",
       "    <tr>\n",
       "      <th>2007</th>\n",
       "      <td>31</td>\n",
       "      <td>43</td>\n",
       "      <td>130</td>\n",
       "    </tr>\n",
       "    <tr>\n",
       "      <th>2008</th>\n",
       "      <td>29</td>\n",
       "      <td>36</td>\n",
       "      <td>160</td>\n",
       "    </tr>\n",
       "    <tr>\n",
       "      <th>2009</th>\n",
       "      <td>42</td>\n",
       "      <td>40</td>\n",
       "      <td>178</td>\n",
       "    </tr>\n",
       "    <tr>\n",
       "      <th>2010</th>\n",
       "      <td>26</td>\n",
       "      <td>33</td>\n",
       "      <td>171</td>\n",
       "    </tr>\n",
       "    <tr>\n",
       "      <th>2011</th>\n",
       "      <td>36</td>\n",
       "      <td>39</td>\n",
       "      <td>150</td>\n",
       "    </tr>\n",
       "    <tr>\n",
       "      <th>2012</th>\n",
       "      <td>41</td>\n",
       "      <td>41</td>\n",
       "      <td>139</td>\n",
       "    </tr>\n",
       "    <tr>\n",
       "      <th>2013</th>\n",
       "      <td>38</td>\n",
       "      <td>54</td>\n",
       "      <td>145</td>\n",
       "    </tr>\n",
       "    <tr>\n",
       "      <th>2014</th>\n",
       "      <td>36</td>\n",
       "      <td>45</td>\n",
       "      <td>171</td>\n",
       "    </tr>\n",
       "    <tr>\n",
       "      <th>2015</th>\n",
       "      <td>34</td>\n",
       "      <td>47</td>\n",
       "      <td>145</td>\n",
       "    </tr>\n",
       "    <tr>\n",
       "      <th>2016</th>\n",
       "      <td>8</td>\n",
       "      <td>19</td>\n",
       "      <td>79</td>\n",
       "    </tr>\n",
       "  </tbody>\n",
       "</table>\n",
       "</div>"
      ],
      "text/plain": [
       "                           count                  \n",
       "                        duration                  \n",
       "movie_duration_category   1. <90 2. 90-120 3. >120\n",
       "title_year                                        \n",
       "2000                          25        34     112\n",
       "2001                          29        39     120\n",
       "2002                          36        27     146\n",
       "2003                          31        30     108\n",
       "2004                          30        42     142\n",
       "2005                          31        48     142\n",
       "2006                          40        53     146\n",
       "2007                          31        43     130\n",
       "2008                          29        36     160\n",
       "2009                          42        40     178\n",
       "2010                          26        33     171\n",
       "2011                          36        39     150\n",
       "2012                          41        41     139\n",
       "2013                          38        54     145\n",
       "2014                          36        45     171\n",
       "2015                          34        47     145\n",
       "2016                           8        19      79"
      ]
     },
     "execution_count": 6,
     "metadata": {},
     "output_type": "execute_result"
    }
   ],
   "source": [
    "\n",
    "pivot_table = df.query('title_year>=2000').pivot_table(index=['title_year'], columns=['movie_duration_category'], values=['duration'], aggfunc=['count'])\n",
    "pivot_table"
   ]
  },
  {
   "cell_type": "markdown",
   "id": "a42d4f4f",
   "metadata": {},
   "source": [
    "<a id='section7'></a>\n",
    "#### 1.7. How many films between 90 minutes and two hours long were released in 2008? \n",
    "• Table rows: year • Table columns: movie duration category (\"<90\", \"90–120\", \">120\") \n",
    "\n",
    "• The year of release should be displayed in the YYYY format. "
   ]
  },
  {
   "cell_type": "code",
   "execution_count": 7,
   "id": "4deae92f",
   "metadata": {},
   "outputs": [
    {
     "name": "stdout",
     "output_type": "stream",
     "text": [
      "There are 42 movies released in 2008 with a duration of 90 to 120 minutes\n"
     ]
    }
   ],
   "source": [
    "print('There are {} movies released in 2008 with a duration of 90 to 120 minutes'.format(df.query('90 >= duration <=120 and title_year==2008').shape[0]))"
   ]
  },
  {
   "cell_type": "markdown",
   "id": "d05a184b",
   "metadata": {},
   "source": [
    "<a id='section8'></a>\n",
    "#### 1.8. The plot_keywords column holds keywords characterizing the film's plot. \n",
    "\n",
    "Using the data in this column, create a column called movie_plot_category, to contain four categories \n",
    "depending on the key words in the column: \n",
    "\n",
    "• Category \"love_and_death\" if the keywords include both \"love\" and \"death\"\n",
    "\n",
    "• Category \"love\" if the keywords include the word \"love\" \n",
    "\n",
    "• Category \"death\" if the keywords include the word \"death\" \n",
    "\n",
    "• Category \"other\" if the keywords do not meet the conditions above"
   ]
  },
  {
   "cell_type": "code",
   "execution_count": 8,
   "id": "7f30f293",
   "metadata": {},
   "outputs": [
    {
     "name": "stdout",
     "output_type": "stream",
     "text": [
      "Number of movies by plot category\n"
     ]
    },
    {
     "data": {
      "text/plain": [
       "other             4531\n",
       "love               223\n",
       "death              170\n",
       "love_and_death      11\n",
       "Name: movie_plot_category, dtype: int64"
      ]
     },
     "execution_count": 8,
     "metadata": {},
     "output_type": "execute_result"
    }
   ],
   "source": [
    "\n",
    "df['plot_keywords'] = df['plot_keywords'].astype('string')\n",
    "\n",
    "def movie_plot_category(plot_keywords):   \n",
    "    lemmas = m.lemmatize(plot_keywords)    \n",
    "    \n",
    "    if 'love' in lemmas and 'death' in lemmas:\n",
    "        return 'love_and_death'\n",
    "    elif 'love' in lemmas:\n",
    "        return 'love'\n",
    "    elif 'death' in lemmas:\n",
    "        return 'death'\n",
    "    return 'other'\n",
    "\n",
    "\n",
    "df['movie_plot_category'] = df['plot_keywords'].apply(movie_plot_category)\n",
    "print('Number of movies by plot category')\n",
    "df['movie_plot_category'].value_counts()"
   ]
  },
  {
   "cell_type": "markdown",
   "id": "dde7a101",
   "metadata": {},
   "source": [
    "<a id='section9'></a>\n",
    "#### 1.9. The imdb_score column shows a viewer rating for the film. Build a table to reflect the average rating of films depending on which movie_plot_category category they belong to."
   ]
  },
  {
   "cell_type": "code",
   "execution_count": 9,
   "id": "cf63e6e3",
   "metadata": {},
   "outputs": [
    {
     "data": {
      "image/png": "[encoded data removed]",
      "text/plain": [
       "<Figure size 432x288 with 1 Axes>"
      ]
     },
     "metadata": {
      "needs_background": "light"
     },
     "output_type": "display_data"
    },
    {
     "name": "stdout",
     "output_type": "stream",
     "text": [
      "Avegare IMDB rating by plot category\n"
     ]
    },
    {
     "data": {
      "text/html": [
       "<div>\n",
       "<style scoped>\n",
       "    .dataframe tbody tr th:only-of-type {\n",
       "        vertical-align: middle;\n",
       "    }\n",
       "\n",
       "    .dataframe tbody tr th {\n",
       "        vertical-align: top;\n",
       "    }\n",
       "\n",
       "    .dataframe thead th {\n",
       "        text-align: right;\n",
       "    }\n",
       "</style>\n",
       "<table border=\"1\" class=\"dataframe\">\n",
       "  <thead>\n",
       "    <tr style=\"text-align: right;\">\n",
       "      <th></th>\n",
       "      <th>imdb_score</th>\n",
       "    </tr>\n",
       "    <tr>\n",
       "      <th>movie_plot_category</th>\n",
       "      <th></th>\n",
       "    </tr>\n",
       "  </thead>\n",
       "  <tbody>\n",
       "    <tr>\n",
       "      <th>death</th>\n",
       "      <td>7.0</td>\n",
       "    </tr>\n",
       "    <tr>\n",
       "      <th>love</th>\n",
       "      <td>7.0</td>\n",
       "    </tr>\n",
       "    <tr>\n",
       "      <th>love_and_death</th>\n",
       "      <td>7.0</td>\n",
       "    </tr>\n",
       "    <tr>\n",
       "      <th>other</th>\n",
       "      <td>6.0</td>\n",
       "    </tr>\n",
       "  </tbody>\n",
       "</table>\n",
       "</div>"
      ],
      "text/plain": [
       "                     imdb_score\n",
       "movie_plot_category            \n",
       "death                       7.0\n",
       "love                        7.0\n",
       "love_and_death              7.0\n",
       "other                       6.0"
      ]
     },
     "execution_count": 9,
     "metadata": {},
     "output_type": "execute_result"
    }
   ],
   "source": [
    "df.boxplot(column='imdb_score')\n",
    "plt.show()\n",
    "\n",
    "print('Avegare IMDB rating by plot category')\n",
    "df.groupby('movie_plot_category').agg({'imdb_score':'median'}).round()"
   ]
  },
  {
   "cell_type": "markdown",
   "id": "7724ebc3",
   "metadata": {},
   "source": [
    "<a id='section10'></a>\n",
    "#### 1.10. What is the average rating of films in the \"love\" category? Give the answer as a floatingpoint figure rounded to two decimal places. "
   ]
  },
  {
   "cell_type": "code",
   "execution_count": 10,
   "id": "81e38cba",
   "metadata": {},
   "outputs": [
    {
     "name": "stdout",
     "output_type": "stream",
     "text": [
      "The average rating of movies about \"Love\" is 6.7\n"
     ]
    }
   ],
   "source": [
    "print('The average rating of movies about \"Love\" is {}'.format(round(df.query('movie_plot_category==\"love\"')['imdb_score'].median(),2)))"
   ]
  },
  {
   "cell_type": "markdown",
   "id": "10e2dee3",
   "metadata": {},
   "source": [
    "<a id='section11'></a>\n",
    "#### 1.11. The budget column contains the film's budget. What is the median budget for all the films listed? Give the answer as an integer."
   ]
  },
  {
   "cell_type": "code",
   "execution_count": 11,
   "id": "e2f774a5",
   "metadata": {},
   "outputs": [
    {
     "name": "stdout",
     "output_type": "stream",
     "text": [
      "The median budget of all movies listed above is 16000000\n"
     ]
    }
   ],
   "source": [
    "\n",
    "print('The median budget of all movies listed above is {}'.format(round(df['budget'].replace('[\\$,]', '', regex=True).median()   )) )"
   ]
  }
 ],
 "metadata": {
  "kernelspec": {
   "display_name": "Python 3",
   "language": "python",
   "name": "python3"
  },
  "language_info": {
   "codemirror_mode": {
    "name": "ipython",
    "version": 3
   },
   "file_extension": ".py",
   "mimetype": "text/x-python",
   "name": "python",
   "nbconvert_exporter": "python",
   "pygments_lexer": "ipython3",
   "version": "3.8.8"
  }
 },
 "nbformat": 4,
 "nbformat_minor": 5
}
